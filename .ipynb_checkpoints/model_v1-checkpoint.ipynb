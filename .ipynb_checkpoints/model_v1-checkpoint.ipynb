{
 "cells": [
  {
   "cell_type": "code",
   "execution_count": 11,
   "id": "85ef65af",
   "metadata": {},
   "outputs": [
    {
     "name": "stdout",
     "output_type": "stream",
     "text": [
      "Numpy -> 1.20.1\n",
      "Pandas -> 1.2.4\n",
      "Tensorflow -> 2.3.0\n",
      "Keras -> 2.4.0\n"
     ]
    }
   ],
   "source": [
    "import os\n",
    "import numpy as np\n",
    "import pandas as pd\n",
    "import tensorflow as tf\n",
    "from tensorflow import keras\n",
    "import matplotlib.pyplot as plot\n",
    "from PIL import Image\n",
    "\n",
    "#checking library versions\n",
    "print(\"Numpy -> \" + np.__version__)\n",
    "print(\"Pandas -> \" + pd.__version__)\n",
    "print(\"Tensorflow -> \" + tf.__version__)\n",
    "print(\"Keras -> \" + keras.__version__)\n"
   ]
  },
  {
   "cell_type": "code",
   "execution_count": null,
   "id": "502e1896",
   "metadata": {},
   "outputs": [],
   "source": []
  }
 ],
 "metadata": {
  "kernelspec": {
   "display_name": "Python 3",
   "language": "python",
   "name": "python3"
  },
  "language_info": {
   "codemirror_mode": {
    "name": "ipython",
    "version": 3
   },
   "file_extension": ".py",
   "mimetype": "text/x-python",
   "name": "python",
   "nbconvert_exporter": "python",
   "pygments_lexer": "ipython3",
   "version": "3.8.8"
  }
 },
 "nbformat": 4,
 "nbformat_minor": 5
}
